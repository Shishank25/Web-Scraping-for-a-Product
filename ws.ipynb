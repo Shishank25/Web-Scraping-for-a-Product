{
 "cells": [
  {
   "cell_type": "code",
   "execution_count": null,
   "metadata": {},
   "outputs": [],
   "source": [
    "from bs4 import BeautifulSoup\n",
    "import requests\n",
    "import smtplib\n",
    "import time\n",
    "import datetime"
   ]
  },
  {
   "cell_type": "code",
   "execution_count": null,
   "metadata": {},
   "outputs": [],
   "source": [
    "# For accessing the product page and collecting the name and price of the product\n",
    "\n",
    "URL = 'https://www.amazon.in/Wireless-Ergonomic-Rechargeable-Receiver-ChromeBook/dp/B0CY9DJ387/ref=sxin_15_pa_sp_search_thematic_sspa?content-id=amzn1.sym.85e046b2-1010-4183-b7b7-f25119863240%3Aamzn1.sym.85e046b2-1010-4183-b7b7-f25119863240&crid=1R8OUQ3B8IHKF&cv_ct_cx=mouse&dib=eyJ2IjoiMSJ9.L7rT2LFc9Zhuonvs09mFeahSzJ5-35HGbKjpVoAMmh6jS2rlLGt1Z-z3rgbXRTxgXL1Q6pw4ajJR6dENe5PTRA.RmwUjTzGRpx6mnAmdswdAKuQvI1_IgNvkZupCn77oBA&dib_tag=se&keywords=mouse&pd_rd_i=B0CY9DJ387&pd_rd_r=76a6c248-b7a0-42c6-9405-96200038cfa4&pd_rd_w=zp1Im&pd_rd_wg=M1jtL&pf_rd_p=85e046b2-1010-4183-b7b7-f25119863240&pf_rd_r=Q2DGRJ302G3D8RMD4TY6&qid=1721150996&sbo=RZvfv%2F%2FHxDF%2BO5021pAnSA%3D%3D&sprefix=mou%2Caps%2C259&sr=1-1-ced4eeeb-b190-41d6-902a-1ecb3fb8b7c4-spons&sp_csd=d2lkZ2V0TmFtZT1zcF9zZWFyY2hfdGhlbWF0aWM&psc=1'\n",
    "\n",
    "headers = {\"User-Agent\": \"Mozilla/5.0 (Windows NT 10.0; Win64; x64) AppleWebKit/537.36 (KHTML, like Gecko) Chrome/126.0.0.0 Safari/537.36\"}\n",
    "\n",
    "page = requests.get(URL, headers=headers)\n",
    "\n",
    "soup1 = BeautifulSoup(page.content, \"html.parser\")\n",
    "\n",
    "soup2 = BeautifulSoup(soup1.prettify(), \"html.parser\")\n",
    "\n",
    "title = soup2.find(id='productTitle').get_text()\n",
    "\n",
    "price = soup2.select_one('span.a-offscreen').get_text()\n",
    "\n",
    "print(title, price)"
   ]
  },
  {
   "cell_type": "code",
   "execution_count": null,
   "metadata": {},
   "outputs": [],
   "source": [
    "# To remove the junk parts from the data so that it is presentable and can be worked with in a CSV format\n",
    "\n",
    "price = price.strip()[1:]\n",
    "title = title.strip()\n",
    "\n",
    "print(title)\n",
    "print(price)"
   ]
  },
  {
   "cell_type": "code",
   "execution_count": null,
   "metadata": {},
   "outputs": [],
   "source": [
    "# To include date of data entry \n",
    "\n",
    "import datetime\n",
    "\n",
    "today = datetime.date.today()\n",
    "\n",
    "print(today)"
   ]
  },
  {
   "cell_type": "code",
   "execution_count": null,
   "metadata": {},
   "outputs": [],
   "source": [
    "# Inputing the data into the CSV file\n",
    "\n",
    "import csv\n",
    "header = ['Title','Price','Date']\n",
    "data = [title, price, today]\n",
    "\n",
    "with open('AmazonWSDS.csv','w', newline='', encoding='UTF8') as f:\n",
    "    writer = csv.writer(f)\n",
    "    writer.writerow(header)\n",
    "    writer.writerow(data)\n",
    "    "
   ]
  },
  {
   "cell_type": "code",
   "execution_count": null,
   "metadata": {},
   "outputs": [],
   "source": [
    "# For displaying the contents in the CSV file\n",
    "\n",
    "import pandas as pd\n",
    "\n",
    "df = pd.read_csv(r'C:\\Users\\Shishank\\OneDrive\\Documents\\Py\\AmazonWSDS.csv')\n",
    "print(df)"
   ]
  },
  {
   "cell_type": "code",
   "execution_count": null,
   "metadata": {},
   "outputs": [],
   "source": [
    "# To append new data into the CSV file\n",
    "\n",
    "with open('AmazonWSDS.csv','a+', newline='', encoding='UTF8') as f:\n",
    "    writer = csv.writer(f)\n",
    "    writer.writerow(data)"
   ]
  },
  {
   "cell_type": "code",
   "execution_count": null,
   "metadata": {},
   "outputs": [],
   "source": [
    "# A function to automate the process for scraping the data\n",
    "\n",
    "def check_price():\n",
    "    URL = 'https://www.amazon.in/Wireless-Ergonomic-Rechargeable-Receiver-ChromeBook/dp/B0CY9DJ387/ref=sxin_15_pa_sp_search_thematic_sspa?content-id=amzn1.sym.85e046b2-1010-4183-b7b7-f25119863240%3Aamzn1.sym.85e046b2-1010-4183-b7b7-f25119863240&crid=1R8OUQ3B8IHKF&cv_ct_cx=mouse&dib=eyJ2IjoiMSJ9.L7rT2LFc9Zhuonvs09mFeahSzJ5-35HGbKjpVoAMmh6jS2rlLGt1Z-z3rgbXRTxgXL1Q6pw4ajJR6dENe5PTRA.RmwUjTzGRpx6mnAmdswdAKuQvI1_IgNvkZupCn77oBA&dib_tag=se&keywords=mouse&pd_rd_i=B0CY9DJ387&pd_rd_r=76a6c248-b7a0-42c6-9405-96200038cfa4&pd_rd_w=zp1Im&pd_rd_wg=M1jtL&pf_rd_p=85e046b2-1010-4183-b7b7-f25119863240&pf_rd_r=Q2DGRJ302G3D8RMD4TY6&qid=1721150996&sbo=RZvfv%2F%2FHxDF%2BO5021pAnSA%3D%3D&sprefix=mou%2Caps%2C259&sr=1-1-ced4eeeb-b190-41d6-902a-1ecb3fb8b7c4-spons&sp_csd=d2lkZ2V0TmFtZT1zcF9zZWFyY2hfdGhlbWF0aWM&psc=1'\n",
    "\n",
    "    headers = {\"User-Agent\": \"Mozilla/5.0 (Windows NT 10.0; Win64; x64) AppleWebKit/537.36 (KHTML, like Gecko) Chrome/126.0.0.0 Safari/537.36\"}\n",
    "\n",
    "    page = requests.get(URL, headers=headers)\n",
    "\n",
    "    soup1 = BeautifulSoup(page.content, \"html.parser\")\n",
    "\n",
    "    soup2 = BeautifulSoup(soup1.prettify(), \"html.parser\")\n",
    "\n",
    "    title = soup2.find(id='productTitle').get_text()\n",
    "\n",
    "    price = soup2.select_one('span.a-offscreen').get_text()\n",
    "\n",
    "    print(title, price)\n",
    "\n",
    "    price = price.strip()[1:]\n",
    "    title = title.strip()\n",
    "\n",
    "    import datetime\n",
    "\n",
    "    today = datetime.date.today()\n",
    "\n",
    "    import csv\n",
    "    header = ['Title','Price','Date']\n",
    "    data = [title, price, today]\n",
    "\n",
    "    with open('AmazonWSDS.csv','a+', newline='', encoding='UTF8') as f:\n",
    "        writer = csv.writer(f)\n",
    "        writer.writerow(data)\n"
   ]
  },
  {
   "cell_type": "code",
   "execution_count": null,
   "metadata": {},
   "outputs": [],
   "source": [
    "# Calling the function\n",
    "\n",
    "while(True):\n",
    "    check_price()\n",
    "    time.sleep(3600)"
   ]
  },
  {
   "cell_type": "code",
   "execution_count": null,
   "metadata": {},
   "outputs": [],
   "source": [
    "df = pd.read_csv(r'C:\\Users\\Shishank\\OneDrive\\Documents\\Py\\AmazonWSDS.csv')\n",
    "print(df)"
   ]
  }
 ],
 "metadata": {
  "kernelspec": {
   "display_name": "Python 3",
   "language": "python",
   "name": "python3"
  },
  "language_info": {
   "codemirror_mode": {
    "name": "ipython",
    "version": 3
   },
   "file_extension": ".py",
   "mimetype": "text/x-python",
   "name": "python",
   "nbconvert_exporter": "python",
   "pygments_lexer": "ipython3",
   "version": "3.12.1"
  }
 },
 "nbformat": 4,
 "nbformat_minor": 2
}
